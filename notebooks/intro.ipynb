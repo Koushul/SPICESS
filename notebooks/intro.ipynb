{
 "cells": [
  {
   "cell_type": "code",
   "execution_count": 2,
   "id": "dc9dd2f1-3c1d-493c-842a-2d5065d5e352",
   "metadata": {},
   "outputs": [],
   "source": [
    "%load_ext autoreload\n",
    "%autoreload 2"
   ]
  },
  {
   "cell_type": "code",
   "execution_count": 69,
   "id": "26033a3b-c972-4de5-93e6-522f2e77ca00",
   "metadata": {},
   "outputs": [],
   "source": [
    "import seaborn as sns"
   ]
  },
  {
   "cell_type": "code",
   "execution_count": 3,
   "id": "4468ac71",
   "metadata": {},
   "outputs": [],
   "source": [
    "import sys\n",
    "sys.path.append('..')"
   ]
  },
  {
   "cell_type": "code",
   "execution_count": 4,
   "id": "2681ce5d-9879-42f6-a673-23b357983085",
   "metadata": {},
   "outputs": [],
   "source": [
    "from data_loaders import DataBlob"
   ]
  },
  {
   "cell_type": "code",
   "execution_count": 61,
   "id": "5c34664e-5447-44f2-be11-acf8f787faf9",
   "metadata": {},
   "outputs": [
    {
     "name": "stderr",
     "output_type": "stream",
     "text": [
      "Injesting Data...: 100%|██████████| 4/4 [00:18<00:00,  4.69s/it]\n"
     ]
    }
   ],
   "source": [
    "dataset = DataBlob()"
   ]
  }
 ],
 "metadata": {
  "kernelspec": {
   "display_name": "Python 3",
   "language": "python",
   "name": "python3"
  },
  "language_info": {
   "codemirror_mode": {
    "name": "ipython",
    "version": 3
   },
   "file_extension": ".py",
   "mimetype": "text/x-python",
   "name": "python",
   "nbconvert_exporter": "python",
   "pygments_lexer": "ipython3",
   "version": "3.10.6"
  }
 },
 "nbformat": 4,
 "nbformat_minor": 5
}
